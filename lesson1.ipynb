{
 "cells": [
  {
   "cell_type": "code",
   "execution_count": null,
   "id": "2b6f3577",
   "metadata": {},
   "outputs": [],
   "source": [
    "Задача 1\n",
    "\n",
    " Выполнить логичекие побитовые операции над числами 5 и 6.\n",
    "    \n",
    "    Выполнить над числом 5 побитовый сдвиг вправо и влево на два знака.\n",
    "    \n",
    "Задача 2\n",
    "\n",
    " По введеным пользователям координатам двух точек вывести уравнение прямой , которая проходит через эти точки.\n",
    "\n",
    "Задача 3\n",
    "\n",
    " Написать программу, которая генерирует в указанном пользователе диапазоне:\n",
    "        случайное целое число\n",
    "        случайное вещественное число\n",
    "        случайный символ\n",
    "        \n",
    "Задача 4\n",
    "\n",
    "   Пользователь вводит две буквы. Определить их порядковый номер в алфавите и расчитать число букв между ними.\n",
    "\n",
    "Задача 5\n",
    "\n",
    "   Пользователь вводит номер буквы в алфавите. Определить, какая это буква.\n",
    "\n",
    "Задача 6\n",
    "\n",
    "   По введенным пользователем длиннам отрезков определить, моно ли составить из них треугольник.Если да, то определить,\n",
    "    будет ли он разносторонним, равнобедренным, равносторонним.\n",
    "\n",
    "\n",
    "Задача 7\n",
    "\n",
    " Определить, является ли введенный пользователем год високосным или нет.\n",
    "\n",
    "Задача 8\n",
    "\n",
    "  Вводится три разных числа. Определить, какое из них среднее.\n",
    "\n"
   ]
  },
  {
   "cell_type": "code",
   "execution_count": 173,
   "id": "c053b33a",
   "metadata": {},
   "outputs": [
    {
     "name": "stdout",
     "output_type": "stream",
     "text": [
      "OR 7\n",
      "AND 4\n",
      "XOR 3\n",
      "LEFT 20\n",
      "RIGHT 1\n"
     ]
    }
   ],
   "source": [
    "#Задача1\n",
    "\n",
    "bit_or = 5 | 6\n",
    "bit_and = 5 & 6\n",
    "bit_xor = 5 ^ 6\n",
    "bit_left = 5 << 2\n",
    "bit_right = 5 >> 2\n",
    "\n",
    "print (f'OR {bit_or}\\nAND {bit_and}\\nXOR {bit_xor}\\nLEFT {bit_left}\\nRIGHT {bit_right}')"
   ]
  },
  {
   "cell_type": "code",
   "execution_count": 203,
   "id": "a0efe42f",
   "metadata": {},
   "outputs": [
    {
     "name": "stdout",
     "output_type": "stream",
     "text": [
      "Первая координата первой точки: 3\n",
      "Вторая координата первой точки: 1\n",
      "Первая координата второй точки: 5\n",
      "Вторая координата второй точки: 2\n",
      "y = 0.5*x-0.5\n"
     ]
    }
   ],
   "source": [
    "#Задача2\n",
    "\n",
    "\n",
    "xa  = float(input(\"Первая координата первой точки: \"))\n",
    "ya  = float(input(\"Вторая координата первой точки: \"))\n",
    "xb  = float(input(\"Первая координата второй точки: \"))\n",
    "yb  = float(input(\"Вторая координата второй точки: \"))\n",
    "\n",
    "k = (yb-ya)/(xb-xa)\n",
    "a = ya-xa*k\n",
    "    \n",
    "print(f'y = {k}*x{a}')"
   ]
  },
  {
   "cell_type": "code",
   "execution_count": null,
   "id": "fdb9351d",
   "metadata": {},
   "outputs": [],
   "source": [
    "#Задача3"
   ]
  },
  {
   "cell_type": "code",
   "execution_count": 195,
   "id": "4dc3604f",
   "metadata": {},
   "outputs": [
    {
     "name": "stdout",
     "output_type": "stream",
     "text": [
      "Выберем случайное целое число\n",
      "Введите числовую границу 4\n",
      "Введите  числовую границу 2\n",
      "4\n",
      "Выберем случайное вещественное число\n",
      "Введите действительное число  2.0\n",
      "Введите действительное число 1.0\n",
      "1.6924910749079263\n",
      "Выберем случайный символ\n",
      "Введите символ от a до z A\n",
      "Введите символ от a до zJ\n",
      "E\n"
     ]
    }
   ],
   "source": [
    "#a\n",
    "\n",
    "import random\n",
    "print('Выберем случайное целое число')\n",
    "\n",
    "border1  = int(input(\"Введите числовую границу \"))\n",
    "border2 = int(input(\"Введите  числовую границу \"))\n",
    "\n",
    "my_choice=random.randint(min(border1,border2),max(border1,border2))\n",
    "\n",
    "print (my_choice)\n",
    "\n",
    "#b\n",
    "\n",
    "print('Выберем случайное вещественное число')\n",
    "\n",
    "border1  = float(input(\"Введите действительное число  \"))\n",
    "border2 = float(input(\"Введите действительное число \"))\n",
    "\n",
    "my_choice=random.uniform(min(border1,border2),max(border1,border2))\n",
    "\n",
    "print (my_choice)\n",
    "    \n"
   ]
  },
  {
   "cell_type": "code",
   "execution_count": 200,
   "id": "15055558",
   "metadata": {},
   "outputs": [
    {
     "name": "stdout",
     "output_type": "stream",
     "text": [
      "Выберем случайный символ\n",
      "Введите символ от a до z a\n",
      "Введите символ от a до z f\n",
      "c\n"
     ]
    }
   ],
   "source": [
    "#c\n",
    "\n",
    "print('Выберем случайный символ')\n",
    "\n",
    "t = ord(input(\"Введите символ от a до z \").lower())\n",
    "t2  = ord(input(\"Введите символ от a до z \").lower())\n",
    "\n",
    "my_choice = chr(random.randrange(min(t,t2), max(t,t2)))\n",
    "\n",
    "print (my_choice)"
   ]
  },
  {
   "cell_type": "code",
   "execution_count": 115,
   "id": "6984dbd3",
   "metadata": {},
   "outputs": [
    {
     "name": "stdout",
     "output_type": "stream",
     "text": [
      "Выберете две буквы\n",
      "Введите символ от a до z f\n",
      "Введите символ от a до z s\n",
      "102\n",
      "115\n",
      "число букв между символами:13\n"
     ]
    }
   ],
   "source": [
    "#Задача4\n",
    "\n",
    "print('Выберете две буквы')\n",
    "\n",
    "letter1  = ord(input(\"Введите символ от a до z \"))\n",
    "letter2  = ord(input(\"Введите символ от a до z \"))\n",
    "\n",
    "number_of_letters_betwean = (max(letter1,letter2)-min(letter1,letter2))\n",
    "\n",
    "print (f'число букв между символами:{number_of_letters_betwean}')\n"
   ]
  },
  {
   "cell_type": "code",
   "execution_count": 132,
   "id": "e8095c81",
   "metadata": {},
   "outputs": [
    {
     "name": "stdout",
     "output_type": "stream",
     "text": [
      "Введите номер символа меньше 262\n",
      "b'b'\n"
     ]
    }
   ],
   "source": [
    "#Задача5\n",
    "\n",
    "num  = int(input(\"Введите номер символа меньше 26\"))\n",
    "\n",
    "if num<25:\n",
    "    letter = chr(num+96).encode('utf-8')\n",
    "    print (letter)\n",
    "else:    \n",
    "    print('введите число меньше 26')\n"
   ]
  },
  {
   "cell_type": "code",
   "execution_count": 202,
   "id": "0bf38582",
   "metadata": {},
   "outputs": [
    {
     "name": "stdout",
     "output_type": "stream",
     "text": [
      "Введите сторону a 7\n",
      "Введите сторону b 7\n",
      "Введите сторону c 7\n",
      "равносторонние\n"
     ]
    }
   ],
   "source": [
    "#Задача6\n",
    " \n",
    "a  = int(input(\"Введите сторону a \"))\n",
    "b  = int(input(\"Введите сторону b \"))\n",
    "c  = int(input(\"Введите сторону c \"))\n",
    "\n",
    "if a==b==c:\n",
    "    print('равносторонние')\n",
    "elif a==b or a==c:\n",
    "    print ('равнобедренные')\n",
    "else:\n",
    "    print ('разносторонние')"
   ]
  },
  {
   "cell_type": "code",
   "execution_count": 147,
   "id": "1124fe14",
   "metadata": {},
   "outputs": [
    {
     "name": "stdout",
     "output_type": "stream",
     "text": [
      "Введите год1995\n",
      "невисокосный\n"
     ]
    }
   ],
   "source": [
    "#Задача7\n",
    "\n",
    "a  = int(input(\"Введите год  \"))\n",
    "\n",
    "if abs(a-2000)%4==0:\n",
    "    print ('високосный')\n",
    "else:\n",
    "    print ('невисокосный')"
   ]
  },
  {
   "cell_type": "code",
   "execution_count": 215,
   "id": "e950e36b",
   "metadata": {},
   "outputs": [
    {
     "name": "stdout",
     "output_type": "stream",
     "text": [
      "Введите число  1\n",
      "Введите число  2\n",
      "Введите число  3\n",
      "3\n"
     ]
    }
   ],
   "source": [
    "#Задача8\n",
    "\n",
    "import numpy as np\n",
    "\n",
    "a  = int(input(\"Введите число  \"))\n",
    "b  = int(input(\"Введите число  \"))\n",
    "c  = int(input(\"Введите число  \"))\n",
    "\n",
    "mean_ = ((b if a>b else a)if(b if b>c else c)>c else c)\n",
    "\n",
    "print(mean_)"
   ]
  },
  {
   "cell_type": "code",
   "execution_count": 241,
   "id": "5e99ec7b",
   "metadata": {},
   "outputs": [
    {
     "name": "stdout",
     "output_type": "stream",
     "text": [
      "Введите число  55\n",
      "Введите число  10\n",
      "Введите число  79\n",
      "55\n"
     ]
    }
   ],
   "source": [
    "\n",
    "a  = int(input(\"Введите число  \"))\n",
    "b  = int(input(\"Введите число  \"))\n",
    "c  = int(input(\"Введите число  \"))\n",
    "\n",
    "if a>b and b>c:\n",
    "    print (b)\n",
    "if b>c and c>a:\n",
    "    print (c)\n",
    "if c>a and a>b:\n",
    "    print (a)\n",
    "        "
   ]
  }
 ],
 "metadata": {
  "kernelspec": {
   "display_name": "Python 3",
   "language": "python",
   "name": "python3"
  }
 },
 "nbformat": 4,
 "nbformat_minor": 5
}
